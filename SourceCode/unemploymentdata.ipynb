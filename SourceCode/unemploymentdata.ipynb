{
 "cells": [
  {
   "cell_type": "code",
   "execution_count": 2,
   "metadata": {},
   "outputs": [],
   "source": [
    "api_key = ''\n",
    "url = 'https://data.edd.ca.gov/resource/e6gw-gvii.json?'\n",
    "county_list = ['Alameda','Alpine','Amador','Butte','Calaveras','Colusa','Contra Costa','Del Norte','El Dorado','Fresno','Glenn','Humboldt','Imperial',\n",
    "               'Inyo','Kern','Kings','Lake','Lassen','Los Angeles','Madera','Marin','Mariposa','Mendocino','Merced','Modoc','Mono','Monterey','Napa',\n",
    "               'Nevada','Orange','Placer','Plumas','Riverside','Sacramento','San Benito','San Bernardino','San Diego','San Francisco','San Joaquin',\n",
    "               'San Luis Obispo','San Mateo','Santa Barbara','Santa Clara','Santa Cruz','Shasta','Sierra','Siskiyou','Solano','Sonoma','Stanislaus',\n",
    "               'Sutter','Tehama','Trinity','Tulare','Tuolumne','Ventura','Yolo','Yuba']\n"
   ]
  },
  {
   "cell_type": "code",
   "execution_count": 3,
   "metadata": {},
   "outputs": [],
   "source": [
    "import json\n",
    "import requests\n"
   ]
  },
  {
   "cell_type": "code",
   "execution_count": 4,
   "metadata": {},
   "outputs": [],
   "source": [
    "import pandas as pd\n",
    "df = pd.DataFrame(columns = ['Year','County','Unemployment Rate'])\n",
    "query_url = url + '$$app_token=' + api_key\n",
    "x = 2009\n",
    "while x < 2019:\n",
    "    y = 0\n",
    "    while y < 58:\n",
    "        tjson = requests.get(query_url + '&area_name=' + county_list[y] + ' County' + '&year=' + str(x)).json()\n",
    "        templist = [float(each['unemployment_rate']) for each in tjson]\n",
    "        if county_list[y] == 'Los Angeles County':\n",
    "            z = 100 * (sum(templist)/24)\n",
    "        else:\n",
    "            z = 100 * (sum(templist)/12)\n",
    "        df.loc[len(df)] = [x,county_list[y],z]\n",
    "        y = y + 1\n",
    "    x = x + 1 \n",
    "\n",
    "    \n",
    "\n"
   ]
  },
  {
   "cell_type": "code",
   "execution_count": 6,
   "metadata": {},
   "outputs": [],
   "source": [
    "df.to_csv(\"cleaned_unemployment_data.csv\")"
   ]
  },
  {
   "cell_type": "code",
   "execution_count": 7,
   "metadata": {},
   "outputs": [
    {
     "data": {
      "text/html": [
       "<div>\n",
       "<style scoped>\n",
       "    .dataframe tbody tr th:only-of-type {\n",
       "        vertical-align: middle;\n",
       "    }\n",
       "\n",
       "    .dataframe tbody tr th {\n",
       "        vertical-align: top;\n",
       "    }\n",
       "\n",
       "    .dataframe thead th {\n",
       "        text-align: right;\n",
       "    }\n",
       "</style>\n",
       "<table border=\"1\" class=\"dataframe\">\n",
       "  <thead>\n",
       "    <tr style=\"text-align: right;\">\n",
       "      <th></th>\n",
       "      <th>Year</th>\n",
       "      <th>County</th>\n",
       "      <th>Unemployment Rate</th>\n",
       "    </tr>\n",
       "  </thead>\n",
       "  <tbody>\n",
       "    <tr>\n",
       "      <th>575</th>\n",
       "      <td>2018</td>\n",
       "      <td>Tulare</td>\n",
       "      <td>18.416667</td>\n",
       "    </tr>\n",
       "    <tr>\n",
       "      <th>576</th>\n",
       "      <td>2018</td>\n",
       "      <td>Tuolumne</td>\n",
       "      <td>8.858333</td>\n",
       "    </tr>\n",
       "    <tr>\n",
       "      <th>577</th>\n",
       "      <td>2018</td>\n",
       "      <td>Ventura</td>\n",
       "      <td>7.225000</td>\n",
       "    </tr>\n",
       "    <tr>\n",
       "      <th>578</th>\n",
       "      <td>2018</td>\n",
       "      <td>Yolo</td>\n",
       "      <td>8.416667</td>\n",
       "    </tr>\n",
       "    <tr>\n",
       "      <th>579</th>\n",
       "      <td>2018</td>\n",
       "      <td>Yuba</td>\n",
       "      <td>12.850000</td>\n",
       "    </tr>\n",
       "  </tbody>\n",
       "</table>\n",
       "</div>"
      ],
      "text/plain": [
       "     Year    County  Unemployment Rate\n",
       "575  2018    Tulare          18.416667\n",
       "576  2018  Tuolumne           8.858333\n",
       "577  2018   Ventura           7.225000\n",
       "578  2018      Yolo           8.416667\n",
       "579  2018      Yuba          12.850000"
      ]
     },
     "execution_count": 7,
     "metadata": {},
     "output_type": "execute_result"
    }
   ],
   "source": [
    "df.tail()"
   ]
  },
  {
   "cell_type": "code",
   "execution_count": 8,
   "metadata": {},
   "outputs": [],
   "source": [
    "unemployment_df = pd.read_csv('cleaned_unemployment_data.csv')\n",
    "house_df = pd.read_csv('county_data.csv')"
   ]
  },
  {
   "cell_type": "code",
   "execution_count": 9,
   "metadata": {},
   "outputs": [
    {
     "data": {
      "text/html": [
       "<div>\n",
       "<style scoped>\n",
       "    .dataframe tbody tr th:only-of-type {\n",
       "        vertical-align: middle;\n",
       "    }\n",
       "\n",
       "    .dataframe tbody tr th {\n",
       "        vertical-align: top;\n",
       "    }\n",
       "\n",
       "    .dataframe thead th {\n",
       "        text-align: right;\n",
       "    }\n",
       "</style>\n",
       "<table border=\"1\" class=\"dataframe\">\n",
       "  <thead>\n",
       "    <tr style=\"text-align: right;\">\n",
       "      <th></th>\n",
       "      <th>Unnamed: 0</th>\n",
       "      <th>Year</th>\n",
       "      <th>County</th>\n",
       "      <th>Unemployment Rate</th>\n",
       "      <th>Region</th>\n",
       "    </tr>\n",
       "  </thead>\n",
       "  <tbody>\n",
       "    <tr>\n",
       "      <th>0</th>\n",
       "      <td>0</td>\n",
       "      <td>2009</td>\n",
       "      <td>Alameda</td>\n",
       "      <td>10.258333</td>\n",
       "      <td>Alameda County, CA</td>\n",
       "    </tr>\n",
       "    <tr>\n",
       "      <th>1</th>\n",
       "      <td>1</td>\n",
       "      <td>2009</td>\n",
       "      <td>Alpine</td>\n",
       "      <td>14.725000</td>\n",
       "      <td>Alpine County, CA</td>\n",
       "    </tr>\n",
       "    <tr>\n",
       "      <th>2</th>\n",
       "      <td>2</td>\n",
       "      <td>2009</td>\n",
       "      <td>Amador</td>\n",
       "      <td>11.425000</td>\n",
       "      <td>Amador County, CA</td>\n",
       "    </tr>\n",
       "    <tr>\n",
       "      <th>3</th>\n",
       "      <td>3</td>\n",
       "      <td>2009</td>\n",
       "      <td>Butte</td>\n",
       "      <td>12.283333</td>\n",
       "      <td>Butte County, CA</td>\n",
       "    </tr>\n",
       "    <tr>\n",
       "      <th>4</th>\n",
       "      <td>4</td>\n",
       "      <td>2009</td>\n",
       "      <td>Calaveras</td>\n",
       "      <td>13.600000</td>\n",
       "      <td>Calaveras County, CA</td>\n",
       "    </tr>\n",
       "  </tbody>\n",
       "</table>\n",
       "</div>"
      ],
      "text/plain": [
       "   Unnamed: 0  Year     County  Unemployment Rate                Region\n",
       "0           0  2009    Alameda          10.258333    Alameda County, CA\n",
       "1           1  2009     Alpine          14.725000     Alpine County, CA\n",
       "2           2  2009     Amador          11.425000     Amador County, CA\n",
       "3           3  2009      Butte          12.283333      Butte County, CA\n",
       "4           4  2009  Calaveras          13.600000  Calaveras County, CA"
      ]
     },
     "execution_count": 9,
     "metadata": {},
     "output_type": "execute_result"
    }
   ],
   "source": [
    "unemployment_df.head()"
   ]
  },
  {
   "cell_type": "code",
   "execution_count": 10,
   "metadata": {},
   "outputs": [],
   "source": [
    "final_df =  pd.merge(unemployment_df, house_df, on=['Region','Year'], how='inner')"
   ]
  },
  {
   "cell_type": "code",
   "execution_count": 11,
   "metadata": {},
   "outputs": [
    {
     "data": {
      "text/html": [
       "<div>\n",
       "<style scoped>\n",
       "    .dataframe tbody tr th:only-of-type {\n",
       "        vertical-align: middle;\n",
       "    }\n",
       "\n",
       "    .dataframe tbody tr th {\n",
       "        vertical-align: top;\n",
       "    }\n",
       "\n",
       "    .dataframe thead th {\n",
       "        text-align: right;\n",
       "    }\n",
       "</style>\n",
       "<table border=\"1\" class=\"dataframe\">\n",
       "  <thead>\n",
       "    <tr style=\"text-align: right;\">\n",
       "      <th></th>\n",
       "      <th>Unnamed: 0_x</th>\n",
       "      <th>Year</th>\n",
       "      <th>County</th>\n",
       "      <th>Unemployment Rate</th>\n",
       "      <th>Region</th>\n",
       "      <th>Unnamed: 0_y</th>\n",
       "      <th>State</th>\n",
       "      <th>Region Type</th>\n",
       "      <th>City</th>\n",
       "      <th>Property Type</th>\n",
       "      <th>Period Begin</th>\n",
       "      <th>Median Sale Price</th>\n",
       "    </tr>\n",
       "  </thead>\n",
       "  <tbody>\n",
       "    <tr>\n",
       "      <th>0</th>\n",
       "      <td>174</td>\n",
       "      <td>2012</td>\n",
       "      <td>Alameda</td>\n",
       "      <td>8.7</td>\n",
       "      <td>Alameda County, CA</td>\n",
       "      <td>686</td>\n",
       "      <td>California</td>\n",
       "      <td>County</td>\n",
       "      <td>NaN</td>\n",
       "      <td>All Residential</td>\n",
       "      <td>2/1/2012</td>\n",
       "      <td>312000</td>\n",
       "    </tr>\n",
       "    <tr>\n",
       "      <th>1</th>\n",
       "      <td>174</td>\n",
       "      <td>2012</td>\n",
       "      <td>Alameda</td>\n",
       "      <td>8.7</td>\n",
       "      <td>Alameda County, CA</td>\n",
       "      <td>1372</td>\n",
       "      <td>California</td>\n",
       "      <td>County</td>\n",
       "      <td>NaN</td>\n",
       "      <td>All Residential</td>\n",
       "      <td>6/1/2012</td>\n",
       "      <td>389000</td>\n",
       "    </tr>\n",
       "    <tr>\n",
       "      <th>2</th>\n",
       "      <td>174</td>\n",
       "      <td>2012</td>\n",
       "      <td>Alameda</td>\n",
       "      <td>8.7</td>\n",
       "      <td>Alameda County, CA</td>\n",
       "      <td>1715</td>\n",
       "      <td>California</td>\n",
       "      <td>County</td>\n",
       "      <td>NaN</td>\n",
       "      <td>All Residential</td>\n",
       "      <td>3/1/2012</td>\n",
       "      <td>330000</td>\n",
       "    </tr>\n",
       "    <tr>\n",
       "      <th>3</th>\n",
       "      <td>174</td>\n",
       "      <td>2012</td>\n",
       "      <td>Alameda</td>\n",
       "      <td>8.7</td>\n",
       "      <td>Alameda County, CA</td>\n",
       "      <td>1716</td>\n",
       "      <td>California</td>\n",
       "      <td>County</td>\n",
       "      <td>NaN</td>\n",
       "      <td>All Residential</td>\n",
       "      <td>4/1/2012</td>\n",
       "      <td>350000</td>\n",
       "    </tr>\n",
       "    <tr>\n",
       "      <th>4</th>\n",
       "      <td>174</td>\n",
       "      <td>2012</td>\n",
       "      <td>Alameda</td>\n",
       "      <td>8.7</td>\n",
       "      <td>Alameda County, CA</td>\n",
       "      <td>3139</td>\n",
       "      <td>California</td>\n",
       "      <td>County</td>\n",
       "      <td>NaN</td>\n",
       "      <td>All Residential</td>\n",
       "      <td>9/1/2012</td>\n",
       "      <td>412000</td>\n",
       "    </tr>\n",
       "  </tbody>\n",
       "</table>\n",
       "</div>"
      ],
      "text/plain": [
       "   Unnamed: 0_x  Year   County  Unemployment Rate              Region  \\\n",
       "0           174  2012  Alameda                8.7  Alameda County, CA   \n",
       "1           174  2012  Alameda                8.7  Alameda County, CA   \n",
       "2           174  2012  Alameda                8.7  Alameda County, CA   \n",
       "3           174  2012  Alameda                8.7  Alameda County, CA   \n",
       "4           174  2012  Alameda                8.7  Alameda County, CA   \n",
       "\n",
       "   Unnamed: 0_y       State Region Type  City    Property Type Period Begin  \\\n",
       "0           686  California      County   NaN  All Residential     2/1/2012   \n",
       "1          1372  California      County   NaN  All Residential     6/1/2012   \n",
       "2          1715  California      County   NaN  All Residential     3/1/2012   \n",
       "3          1716  California      County   NaN  All Residential     4/1/2012   \n",
       "4          3139  California      County   NaN  All Residential     9/1/2012   \n",
       "\n",
       "   Median Sale Price  \n",
       "0             312000  \n",
       "1             389000  \n",
       "2             330000  \n",
       "3             350000  \n",
       "4             412000  "
      ]
     },
     "execution_count": 11,
     "metadata": {},
     "output_type": "execute_result"
    }
   ],
   "source": [
    "final_df.head()"
   ]
  },
  {
   "cell_type": "code",
   "execution_count": 31,
   "metadata": {},
   "outputs": [],
   "source": [
    "house_df = pd.read_csv('5_county_data.csv')"
   ]
  },
  {
   "cell_type": "code",
   "execution_count": 32,
   "metadata": {},
   "outputs": [],
   "source": [
    "final_df =  pd.merge(unemployment_df, house_df, on=['Region','Year'], how='inner')"
   ]
  },
  {
   "cell_type": "code",
   "execution_count": 33,
   "metadata": {},
   "outputs": [
    {
     "data": {
      "text/html": [
       "<div>\n",
       "<style scoped>\n",
       "    .dataframe tbody tr th:only-of-type {\n",
       "        vertical-align: middle;\n",
       "    }\n",
       "\n",
       "    .dataframe tbody tr th {\n",
       "        vertical-align: top;\n",
       "    }\n",
       "\n",
       "    .dataframe thead th {\n",
       "        text-align: right;\n",
       "    }\n",
       "</style>\n",
       "<table border=\"1\" class=\"dataframe\">\n",
       "  <thead>\n",
       "    <tr style=\"text-align: right;\">\n",
       "      <th></th>\n",
       "      <th>Unnamed: 0_x</th>\n",
       "      <th>Year</th>\n",
       "      <th>County_x</th>\n",
       "      <th>Unemployment Rate</th>\n",
       "      <th>Region</th>\n",
       "      <th>Unnamed: 0_y</th>\n",
       "      <th>State</th>\n",
       "      <th>County_y</th>\n",
       "      <th>City</th>\n",
       "      <th>Median Sale Price</th>\n",
       "      <th>Date</th>\n",
       "      <th>Month</th>\n",
       "    </tr>\n",
       "  </thead>\n",
       "  <tbody>\n",
       "    <tr>\n",
       "      <th>0</th>\n",
       "      <td>174</td>\n",
       "      <td>2012</td>\n",
       "      <td>Alameda</td>\n",
       "      <td>8.7</td>\n",
       "      <td>Alameda County, CA</td>\n",
       "      <td>125</td>\n",
       "      <td>California</td>\n",
       "      <td>Alameda, CA</td>\n",
       "      <td>Alameda</td>\n",
       "      <td>488000</td>\n",
       "      <td>9/1/2012</td>\n",
       "      <td>9</td>\n",
       "    </tr>\n",
       "    <tr>\n",
       "      <th>1</th>\n",
       "      <td>174</td>\n",
       "      <td>2012</td>\n",
       "      <td>Alameda</td>\n",
       "      <td>8.7</td>\n",
       "      <td>Alameda County, CA</td>\n",
       "      <td>714</td>\n",
       "      <td>California</td>\n",
       "      <td>Alameda, CA</td>\n",
       "      <td>Alameda</td>\n",
       "      <td>518000</td>\n",
       "      <td>6/1/2012</td>\n",
       "      <td>6</td>\n",
       "    </tr>\n",
       "    <tr>\n",
       "      <th>2</th>\n",
       "      <td>174</td>\n",
       "      <td>2012</td>\n",
       "      <td>Alameda</td>\n",
       "      <td>8.7</td>\n",
       "      <td>Alameda County, CA</td>\n",
       "      <td>1054</td>\n",
       "      <td>California</td>\n",
       "      <td>Alameda, CA</td>\n",
       "      <td>Alameda</td>\n",
       "      <td>402000</td>\n",
       "      <td>2/1/2012</td>\n",
       "      <td>2</td>\n",
       "    </tr>\n",
       "    <tr>\n",
       "      <th>3</th>\n",
       "      <td>174</td>\n",
       "      <td>2012</td>\n",
       "      <td>Alameda</td>\n",
       "      <td>8.7</td>\n",
       "      <td>Alameda County, CA</td>\n",
       "      <td>1058</td>\n",
       "      <td>California</td>\n",
       "      <td>Alameda, CA</td>\n",
       "      <td>Alameda</td>\n",
       "      <td>439000</td>\n",
       "      <td>3/1/2012</td>\n",
       "      <td>3</td>\n",
       "    </tr>\n",
       "    <tr>\n",
       "      <th>4</th>\n",
       "      <td>174</td>\n",
       "      <td>2012</td>\n",
       "      <td>Alameda</td>\n",
       "      <td>8.7</td>\n",
       "      <td>Alameda County, CA</td>\n",
       "      <td>1765</td>\n",
       "      <td>California</td>\n",
       "      <td>Alameda, CA</td>\n",
       "      <td>Alameda</td>\n",
       "      <td>503000</td>\n",
       "      <td>5/1/2012</td>\n",
       "      <td>5</td>\n",
       "    </tr>\n",
       "  </tbody>\n",
       "</table>\n",
       "</div>"
      ],
      "text/plain": [
       "   Unnamed: 0_x  Year County_x  Unemployment Rate              Region  \\\n",
       "0           174  2012  Alameda                8.7  Alameda County, CA   \n",
       "1           174  2012  Alameda                8.7  Alameda County, CA   \n",
       "2           174  2012  Alameda                8.7  Alameda County, CA   \n",
       "3           174  2012  Alameda                8.7  Alameda County, CA   \n",
       "4           174  2012  Alameda                8.7  Alameda County, CA   \n",
       "\n",
       "   Unnamed: 0_y       State     County_y     City  Median Sale Price  \\\n",
       "0           125  California  Alameda, CA  Alameda             488000   \n",
       "1           714  California  Alameda, CA  Alameda             518000   \n",
       "2          1054  California  Alameda, CA  Alameda             402000   \n",
       "3          1058  California  Alameda, CA  Alameda             439000   \n",
       "4          1765  California  Alameda, CA  Alameda             503000   \n",
       "\n",
       "       Date  Month  \n",
       "0  9/1/2012      9  \n",
       "1  6/1/2012      6  \n",
       "2  2/1/2012      2  \n",
       "3  3/1/2012      3  \n",
       "4  5/1/2012      5  "
      ]
     },
     "execution_count": 33,
     "metadata": {},
     "output_type": "execute_result"
    }
   ],
   "source": [
    "final_df.head()"
   ]
  },
  {
   "cell_type": "code",
   "execution_count": 34,
   "metadata": {},
   "outputs": [
    {
     "data": {
      "text/html": [
       "<div>\n",
       "<style scoped>\n",
       "    .dataframe tbody tr th:only-of-type {\n",
       "        vertical-align: middle;\n",
       "    }\n",
       "\n",
       "    .dataframe tbody tr th {\n",
       "        vertical-align: top;\n",
       "    }\n",
       "\n",
       "    .dataframe thead th {\n",
       "        text-align: right;\n",
       "    }\n",
       "</style>\n",
       "<table border=\"1\" class=\"dataframe\">\n",
       "  <thead>\n",
       "    <tr style=\"text-align: right;\">\n",
       "      <th></th>\n",
       "      <th>Unnamed: 0_x</th>\n",
       "      <th>Year</th>\n",
       "      <th>County_x</th>\n",
       "      <th>Unemployment Rate</th>\n",
       "      <th>Region</th>\n",
       "      <th>Unnamed: 0_y</th>\n",
       "      <th>State</th>\n",
       "      <th>County_y</th>\n",
       "      <th>City</th>\n",
       "      <th>Median Sale Price</th>\n",
       "      <th>Date</th>\n",
       "      <th>Month</th>\n",
       "    </tr>\n",
       "  </thead>\n",
       "  <tbody>\n",
       "    <tr>\n",
       "      <th>410</th>\n",
       "      <td>564</td>\n",
       "      <td>2018</td>\n",
       "      <td>Santa Clara</td>\n",
       "      <td>5.2</td>\n",
       "      <td>Santa Clara County, CA</td>\n",
       "      <td>19527</td>\n",
       "      <td>California</td>\n",
       "      <td>Santa Clara, CA</td>\n",
       "      <td>Santa Clara</td>\n",
       "      <td>1420000</td>\n",
       "      <td>6/1/2018</td>\n",
       "      <td>6</td>\n",
       "    </tr>\n",
       "    <tr>\n",
       "      <th>411</th>\n",
       "      <td>564</td>\n",
       "      <td>2018</td>\n",
       "      <td>Santa Clara</td>\n",
       "      <td>5.2</td>\n",
       "      <td>Santa Clara County, CA</td>\n",
       "      <td>21180</td>\n",
       "      <td>California</td>\n",
       "      <td>Santa Clara, CA</td>\n",
       "      <td>Santa Clara</td>\n",
       "      <td>1450000</td>\n",
       "      <td>4/1/2018</td>\n",
       "      <td>4</td>\n",
       "    </tr>\n",
       "    <tr>\n",
       "      <th>412</th>\n",
       "      <td>564</td>\n",
       "      <td>2018</td>\n",
       "      <td>Santa Clara</td>\n",
       "      <td>5.2</td>\n",
       "      <td>Santa Clara County, CA</td>\n",
       "      <td>21204</td>\n",
       "      <td>California</td>\n",
       "      <td>Santa Clara, CA</td>\n",
       "      <td>Santa Clara</td>\n",
       "      <td>1351000</td>\n",
       "      <td>7/1/2018</td>\n",
       "      <td>7</td>\n",
       "    </tr>\n",
       "    <tr>\n",
       "      <th>413</th>\n",
       "      <td>564</td>\n",
       "      <td>2018</td>\n",
       "      <td>Santa Clara</td>\n",
       "      <td>5.2</td>\n",
       "      <td>Santa Clara County, CA</td>\n",
       "      <td>23082</td>\n",
       "      <td>California</td>\n",
       "      <td>Santa Clara, CA</td>\n",
       "      <td>Santa Clara</td>\n",
       "      <td>1319000</td>\n",
       "      <td>8/1/2018</td>\n",
       "      <td>8</td>\n",
       "    </tr>\n",
       "    <tr>\n",
       "      <th>414</th>\n",
       "      <td>564</td>\n",
       "      <td>2018</td>\n",
       "      <td>Santa Clara</td>\n",
       "      <td>5.2</td>\n",
       "      <td>Santa Clara County, CA</td>\n",
       "      <td>25629</td>\n",
       "      <td>California</td>\n",
       "      <td>Santa Clara, CA</td>\n",
       "      <td>Santa Clara</td>\n",
       "      <td>1193000</td>\n",
       "      <td>12/1/2018</td>\n",
       "      <td>12</td>\n",
       "    </tr>\n",
       "  </tbody>\n",
       "</table>\n",
       "</div>"
      ],
      "text/plain": [
       "     Unnamed: 0_x  Year     County_x  Unemployment Rate  \\\n",
       "410           564  2018  Santa Clara                5.2   \n",
       "411           564  2018  Santa Clara                5.2   \n",
       "412           564  2018  Santa Clara                5.2   \n",
       "413           564  2018  Santa Clara                5.2   \n",
       "414           564  2018  Santa Clara                5.2   \n",
       "\n",
       "                     Region  Unnamed: 0_y       State         County_y  \\\n",
       "410  Santa Clara County, CA         19527  California  Santa Clara, CA   \n",
       "411  Santa Clara County, CA         21180  California  Santa Clara, CA   \n",
       "412  Santa Clara County, CA         21204  California  Santa Clara, CA   \n",
       "413  Santa Clara County, CA         23082  California  Santa Clara, CA   \n",
       "414  Santa Clara County, CA         25629  California  Santa Clara, CA   \n",
       "\n",
       "            City  Median Sale Price       Date  Month  \n",
       "410  Santa Clara            1420000   6/1/2018      6  \n",
       "411  Santa Clara            1450000   4/1/2018      4  \n",
       "412  Santa Clara            1351000   7/1/2018      7  \n",
       "413  Santa Clara            1319000   8/1/2018      8  \n",
       "414  Santa Clara            1193000  12/1/2018     12  "
      ]
     },
     "execution_count": 34,
     "metadata": {},
     "output_type": "execute_result"
    }
   ],
   "source": [
    "final_df.tail()"
   ]
  },
  {
   "cell_type": "code",
   "execution_count": 49,
   "metadata": {},
   "outputs": [],
   "source": [
    "plot_df = final_df.groupby(['Region','Year']).mean()"
   ]
  },
  {
   "cell_type": "code",
   "execution_count": 50,
   "metadata": {},
   "outputs": [
    {
     "data": {
      "text/html": [
       "<div>\n",
       "<style scoped>\n",
       "    .dataframe tbody tr th:only-of-type {\n",
       "        vertical-align: middle;\n",
       "    }\n",
       "\n",
       "    .dataframe tbody tr th {\n",
       "        vertical-align: top;\n",
       "    }\n",
       "\n",
       "    .dataframe thead th {\n",
       "        text-align: right;\n",
       "    }\n",
       "</style>\n",
       "<table border=\"1\" class=\"dataframe\">\n",
       "  <thead>\n",
       "    <tr style=\"text-align: right;\">\n",
       "      <th></th>\n",
       "      <th></th>\n",
       "      <th>Unnamed: 0_x</th>\n",
       "      <th>Unemployment Rate</th>\n",
       "      <th>Unnamed: 0_y</th>\n",
       "      <th>Median Sale Price</th>\n",
       "      <th>Month</th>\n",
       "    </tr>\n",
       "    <tr>\n",
       "      <th>Region</th>\n",
       "      <th>Year</th>\n",
       "      <th></th>\n",
       "      <th></th>\n",
       "      <th></th>\n",
       "      <th></th>\n",
       "      <th></th>\n",
       "    </tr>\n",
       "  </thead>\n",
       "  <tbody>\n",
       "    <tr>\n",
       "      <th rowspan=\"5\" valign=\"top\">Alameda County, CA</th>\n",
       "      <th>2012</th>\n",
       "      <td>174.0</td>\n",
       "      <td>8.700000</td>\n",
       "      <td>2461.000000</td>\n",
       "      <td>498727.272727</td>\n",
       "      <td>7.0</td>\n",
       "    </tr>\n",
       "    <tr>\n",
       "      <th>2013</th>\n",
       "      <td>232.0</td>\n",
       "      <td>7.225000</td>\n",
       "      <td>2669.416667</td>\n",
       "      <td>595750.000000</td>\n",
       "      <td>6.5</td>\n",
       "    </tr>\n",
       "    <tr>\n",
       "      <th>2014</th>\n",
       "      <td>290.0</td>\n",
       "      <td>5.800000</td>\n",
       "      <td>3333.583333</td>\n",
       "      <td>700416.666667</td>\n",
       "      <td>6.5</td>\n",
       "    </tr>\n",
       "    <tr>\n",
       "      <th>2015</th>\n",
       "      <td>348.0</td>\n",
       "      <td>4.741667</td>\n",
       "      <td>5284.250000</td>\n",
       "      <td>786000.000000</td>\n",
       "      <td>6.5</td>\n",
       "    </tr>\n",
       "    <tr>\n",
       "      <th>2016</th>\n",
       "      <td>406.0</td>\n",
       "      <td>4.291667</td>\n",
       "      <td>11663.916667</td>\n",
       "      <td>844000.000000</td>\n",
       "      <td>6.5</td>\n",
       "    </tr>\n",
       "  </tbody>\n",
       "</table>\n",
       "</div>"
      ],
      "text/plain": [
       "                         Unnamed: 0_x  Unemployment Rate  Unnamed: 0_y  \\\n",
       "Region             Year                                                  \n",
       "Alameda County, CA 2012         174.0           8.700000   2461.000000   \n",
       "                   2013         232.0           7.225000   2669.416667   \n",
       "                   2014         290.0           5.800000   3333.583333   \n",
       "                   2015         348.0           4.741667   5284.250000   \n",
       "                   2016         406.0           4.291667  11663.916667   \n",
       "\n",
       "                         Median Sale Price  Month  \n",
       "Region             Year                            \n",
       "Alameda County, CA 2012      498727.272727    7.0  \n",
       "                   2013      595750.000000    6.5  \n",
       "                   2014      700416.666667    6.5  \n",
       "                   2015      786000.000000    6.5  \n",
       "                   2016      844000.000000    6.5  "
      ]
     },
     "execution_count": 50,
     "metadata": {},
     "output_type": "execute_result"
    }
   ],
   "source": [
    "plot_df.head()"
   ]
  },
  {
   "cell_type": "code",
   "execution_count": 51,
   "metadata": {},
   "outputs": [
    {
     "data": {
      "text/html": [
       "<div>\n",
       "<style scoped>\n",
       "    .dataframe tbody tr th:only-of-type {\n",
       "        vertical-align: middle;\n",
       "    }\n",
       "\n",
       "    .dataframe tbody tr th {\n",
       "        vertical-align: top;\n",
       "    }\n",
       "\n",
       "    .dataframe thead th {\n",
       "        text-align: right;\n",
       "    }\n",
       "</style>\n",
       "<table border=\"1\" class=\"dataframe\">\n",
       "  <thead>\n",
       "    <tr style=\"text-align: right;\">\n",
       "      <th></th>\n",
       "      <th></th>\n",
       "      <th>Unnamed: 0_x</th>\n",
       "      <th>Unemployment Rate</th>\n",
       "      <th>Unnamed: 0_y</th>\n",
       "      <th>Median Sale Price</th>\n",
       "      <th>Month</th>\n",
       "    </tr>\n",
       "    <tr>\n",
       "      <th>Region</th>\n",
       "      <th>Year</th>\n",
       "      <th></th>\n",
       "      <th></th>\n",
       "      <th></th>\n",
       "      <th></th>\n",
       "      <th></th>\n",
       "    </tr>\n",
       "  </thead>\n",
       "  <tbody>\n",
       "    <tr>\n",
       "      <th rowspan=\"5\" valign=\"top\">Santa Clara County, CA</th>\n",
       "      <th>2014</th>\n",
       "      <td>332.0</td>\n",
       "      <td>5.150000</td>\n",
       "      <td>4739.500000</td>\n",
       "      <td>7.560000e+05</td>\n",
       "      <td>6.5</td>\n",
       "    </tr>\n",
       "    <tr>\n",
       "      <th>2015</th>\n",
       "      <td>390.0</td>\n",
       "      <td>4.133333</td>\n",
       "      <td>6430.833333</td>\n",
       "      <td>8.764167e+05</td>\n",
       "      <td>6.5</td>\n",
       "    </tr>\n",
       "    <tr>\n",
       "      <th>2016</th>\n",
       "      <td>448.0</td>\n",
       "      <td>3.766667</td>\n",
       "      <td>12822.166667</td>\n",
       "      <td>9.552500e+05</td>\n",
       "      <td>6.5</td>\n",
       "    </tr>\n",
       "    <tr>\n",
       "      <th>2017</th>\n",
       "      <td>506.0</td>\n",
       "      <td>3.216667</td>\n",
       "      <td>12120.666667</td>\n",
       "      <td>1.113667e+06</td>\n",
       "      <td>6.5</td>\n",
       "    </tr>\n",
       "    <tr>\n",
       "      <th>2018</th>\n",
       "      <td>564.0</td>\n",
       "      <td>5.200000</td>\n",
       "      <td>16506.833333</td>\n",
       "      <td>1.339583e+06</td>\n",
       "      <td>6.5</td>\n",
       "    </tr>\n",
       "  </tbody>\n",
       "</table>\n",
       "</div>"
      ],
      "text/plain": [
       "                             Unnamed: 0_x  Unemployment Rate  Unnamed: 0_y  \\\n",
       "Region                 Year                                                  \n",
       "Santa Clara County, CA 2014         332.0           5.150000   4739.500000   \n",
       "                       2015         390.0           4.133333   6430.833333   \n",
       "                       2016         448.0           3.766667  12822.166667   \n",
       "                       2017         506.0           3.216667  12120.666667   \n",
       "                       2018         564.0           5.200000  16506.833333   \n",
       "\n",
       "                             Median Sale Price  Month  \n",
       "Region                 Year                            \n",
       "Santa Clara County, CA 2014       7.560000e+05    6.5  \n",
       "                       2015       8.764167e+05    6.5  \n",
       "                       2016       9.552500e+05    6.5  \n",
       "                       2017       1.113667e+06    6.5  \n",
       "                       2018       1.339583e+06    6.5  "
      ]
     },
     "execution_count": 51,
     "metadata": {},
     "output_type": "execute_result"
    }
   ],
   "source": [
    "plot_df.tail()"
   ]
  },
  {
   "cell_type": "code",
   "execution_count": 52,
   "metadata": {},
   "outputs": [],
   "source": [
    "plot_df.to_csv('final_merged_data.csv')"
   ]
  },
  {
   "cell_type": "code",
   "execution_count": 60,
   "metadata": {},
   "outputs": [
    {
     "data": {
      "text/plain": [
       "<function matplotlib.pyplot.show(*args, **kw)>"
      ]
     },
     "execution_count": 60,
     "metadata": {},
     "output_type": "execute_result"
    },
    {
     "data": {
      "image/png": "[encoded data removed]",
      "text/plain": [
       "<Figure size 432x288 with 1 Axes>"
      ]
     },
     "metadata": {
      "needs_background": "light"
     },
     "output_type": "display_data"
    }
   ],
   "source": [
    "%matplotlib inline\n",
    "x = plot_df.iloc[0:7,1]\n",
    "y = plot_df.iloc[0:7,3]\n",
    "plt.scatter(x, y, edgecolor=\"black\", linewidths=1, marker=\"o\", cmap='viridis', alpha=0.8)\n",
    "plt.title(\"Unemployment versus Housing Price in Alameda County\")\n",
    "plt.ylabel(\"Median Sale Price ($)\")\n",
    "plt.xlabel(\"Unemployment Rate (%)\")\n",
    "plt.savefig(\"AlamedaGraph.png\")\n",
    "plt.show"
   ]
  },
  {
   "cell_type": "code",
   "execution_count": 63,
   "metadata": {},
   "outputs": [
    {
     "data": {
      "text/plain": [
       "<function matplotlib.pyplot.show(*args, **kw)>"
      ]
     },
     "execution_count": 63,
     "metadata": {},
     "output_type": "execute_result"
    },
    {
     "data": {
      "image/png": "[encoded data removed]",
      "text/plain": [
       "<Figure size 432x288 with 1 Axes>"
      ]
     },
     "metadata": {
      "needs_background": "light"
     },
     "output_type": "display_data"
    }
   ],
   "source": [
    "x = plot_df.iloc[7:14,1]\n",
    "y = plot_df.iloc[7:14,3]\n",
    "plt.scatter(x, y, edgecolor=\"black\", linewidths=1, marker=\"o\", cmap='plasma', alpha=0.8)\n",
    "plt.title(\"Unemployment versus Housing Price in Napa County\")\n",
    "plt.ylabel(\"Median Sale Price ($)\")\n",
    "plt.xlabel(\"Unemployment Rate (%)\")\n",
    "plt.savefig(\"NapaGraph.png\")\n",
    "plt.show"
   ]
  },
  {
   "cell_type": "code",
   "execution_count": 64,
   "metadata": {},
   "outputs": [
    {
     "data": {
      "text/plain": [
       "<function matplotlib.pyplot.show(*args, **kw)>"
      ]
     },
     "execution_count": 64,
     "metadata": {},
     "output_type": "execute_result"
    },
    {
     "data": {
      "image/png": "[encoded data removed]",
      "text/plain": [
       "<Figure size 432x288 with 1 Axes>"
      ]
     },
     "metadata": {
      "needs_background": "light"
     },
     "output_type": "display_data"
    }
   ],
   "source": [
    "x = plot_df.iloc[14:21,1]\n",
    "y = plot_df.iloc[14:21,3]\n",
    "plt.scatter(x, y, edgecolor=\"black\", linewidths=1, marker=\"o\", cmap='magma', alpha=0.8)\n",
    "plt.title(\"Unemployment versus Housing Price in San Francisco County\")\n",
    "plt.ylabel(\"Median Sale Price ($)\")\n",
    "plt.xlabel(\"Unemployment Rate (%)\")\n",
    "plt.savefig(\"SanFranciscoGraph.png\")\n",
    "plt.show"
   ]
  },
  {
   "cell_type": "code",
   "execution_count": 65,
   "metadata": {},
   "outputs": [
    {
     "data": {
      "text/plain": [
       "<function matplotlib.pyplot.show(*args, **kw)>"
      ]
     },
     "execution_count": 65,
     "metadata": {},
     "output_type": "execute_result"
    },
    {
     "data": {
      "image/png": "[encoded data removed]",
      "text/plain": [
       "<Figure size 432x288 with 1 Axes>"
      ]
     },
     "metadata": {
      "needs_background": "light"
     },
     "output_type": "display_data"
    }
   ],
   "source": [
    "x = plot_df.iloc[21:28,1]\n",
    "y = plot_df.iloc[21:28,3]\n",
    "plt.scatter(x, y, edgecolor=\"black\", linewidths=1, marker=\"o\", cmap='viridis', alpha=0.8)\n",
    "plt.title(\"Unemployment versus Housing Price in San Mateo County\")\n",
    "plt.ylabel(\"Median Sale Price ($)\")\n",
    "plt.xlabel(\"Unemployment Rate (%)\")\n",
    "plt.savefig(\"SanMateoGraph.png\")\n",
    "plt.show"
   ]
  },
  {
   "cell_type": "code",
   "execution_count": 66,
   "metadata": {},
   "outputs": [
    {
     "data": {
      "text/plain": [
       "<function matplotlib.pyplot.show(*args, **kw)>"
      ]
     },
     "execution_count": 66,
     "metadata": {},
     "output_type": "execute_result"
    },
    {
     "data": {
      "image/png": "[encoded data removed]",
      "text/plain": [
       "<Figure size 432x288 with 1 Axes>"
      ]
     },
     "metadata": {
      "needs_background": "light"
     },
     "output_type": "display_data"
    }
   ],
   "source": [
    "x = plot_df.iloc[28:35,1]\n",
    "y = plot_df.iloc[28:35,3]\n",
    "plt.scatter(x, y, edgecolor=\"black\", linewidths=1, marker=\"o\", cmap='viridis', alpha=0.8)\n",
    "plt.title(\"Unemployment versus Housing Price in Santa Clara County\")\n",
    "plt.ylabel(\"Median Sale Price ($)\")\n",
    "plt.xlabel(\"Unemployment Rate (%)\")\n",
    "plt.savefig(\"SantaClaraGraph.png\")\n",
    "plt.show"
   ]
  },
  {
   "cell_type": "code",
   "execution_count": 71,
   "metadata": {},
   "outputs": [
    {
     "data": {
      "text/plain": [
       "<function matplotlib.pyplot.show(*args, **kw)>"
      ]
     },
     "execution_count": 71,
     "metadata": {},
     "output_type": "execute_result"
    },
    {
     "data": {
      "image/png": "[encoded data removed]",
      "text/plain": [
       "<Figure size 432x288 with 1 Axes>"
      ]
     },
     "metadata": {
      "needs_background": "light"
     },
     "output_type": "display_data"
    }
   ],
   "source": [
    "x = ['2012','2013','2014','2015','2016','2017','2018']\n",
    "plt.plot(x, plot_df.iloc[0:7,1], 'b-', label = 'Alameda')\n",
    "plt.plot(x, plot_df.iloc[7:14,1], 'r-', label = 'Napa')\n",
    "plt.plot(x, plot_df.iloc[14:21,1], 'g-', label = 'San Francisco')\n",
    "plt.plot(x, plot_df.iloc[21:28,1], 'c-', label = 'San Mateo')\n",
    "plt.plot(x, plot_df.iloc[28:35,1], 'y-', label = 'Santa Clara')\n",
    "plt.legend(loc='best')\n",
    "plt.xlabel('Year')\n",
    "plt.ylabel('Unemployment Rate (%)')\n",
    "plt.savefig('AllCountiesGraph.png')\n",
    "plt.show"
   ]
  },
  {
   "cell_type": "code",
   "execution_count": 72,
   "metadata": {},
   "outputs": [
    {
     "data": {
      "text/plain": [
       "<function matplotlib.pyplot.show(*args, **kw)>"
      ]
     },
     "execution_count": 72,
     "metadata": {},
     "output_type": "execute_result"
    },
    {
     "data": {
      "image/png": "[encoded data removed]",
      "text/plain": [
       "<Figure size 432x288 with 1 Axes>"
      ]
     },
     "metadata": {
      "needs_background": "light"
     },
     "output_type": "display_data"
    }
   ],
   "source": [
    "x = ['2012','2013','2014','2015','2016','2017','2018']\n",
    "plt.plot(x, plot_df.iloc[0:7,3], 'b-', label = 'Alameda')\n",
    "plt.plot(x, plot_df.iloc[7:14,3], 'r-', label = 'Napa')\n",
    "plt.plot(x, plot_df.iloc[14:21,3], 'g-', label = 'San Francisco')\n",
    "plt.plot(x, plot_df.iloc[21:28,3], 'c-', label = 'San Mateo')\n",
    "plt.plot(x, plot_df.iloc[28:35,3], 'y-', label = 'Santa Clara')\n",
    "plt.legend(loc='best')\n",
    "plt.xlabel('Year')\n",
    "plt.ylabel('House Prices ($)')\n",
    "plt.savefig('AllCountiesGraph2.png')\n",
    "plt.show"
   ]
  },
  {
   "cell_type": "code",
   "execution_count": null,
   "metadata": {},
   "outputs": [],
   "source": []
  }
 ],
 "metadata": {
  "kernelspec": {
   "display_name": "Python 3",
   "language": "python",
   "name": "python3"
  },
  "language_info": {
   "codemirror_mode": {
    "name": "ipython",
    "version": 3
   },
   "file_extension": ".py",
   "mimetype": "text/x-python",
   "name": "python",
   "nbconvert_exporter": "python",
   "pygments_lexer": "ipython3",
   "version": "3.7.1"
  }
 },
 "nbformat": 4,
 "nbformat_minor": 2
}
