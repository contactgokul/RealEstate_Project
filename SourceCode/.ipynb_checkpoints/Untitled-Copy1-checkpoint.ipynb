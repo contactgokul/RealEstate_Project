{
 "cells": [
  {
   "cell_type": "code",
   "execution_count": 1,
   "metadata": {},
   "outputs": [],
   "source": [
    "# Dependencies\n",
    "import csv\n",
    "import matplotlib.pyplot as plt\n",
    "import requests\n",
    "import pandas as pd\n",
    "import numpy as np\n",
    "from pprint import pprint\n",
    "%matplotlib inline\n",
    "import matplotlib.pyplot as plt"
   ]
  },
  {
   "cell_type": "code",
   "execution_count": 2,
   "metadata": {},
   "outputs": [
    {
     "data": {
      "text/html": [
       "<div>\n",
       "<style scoped>\n",
       "    .dataframe tbody tr th:only-of-type {\n",
       "        vertical-align: middle;\n",
       "    }\n",
       "\n",
       "    .dataframe tbody tr th {\n",
       "        vertical-align: top;\n",
       "    }\n",
       "\n",
       "    .dataframe thead th {\n",
       "        text-align: right;\n",
       "    }\n",
       "</style>\n",
       "<table border=\"1\" class=\"dataframe\">\n",
       "  <thead>\n",
       "    <tr style=\"text-align: right;\">\n",
       "      <th></th>\n",
       "      <th>Rank</th>\n",
       "      <th>School</th>\n",
       "      <th>Type</th>\n",
       "      <th>Grades</th>\n",
       "      <th>Address</th>\n",
       "      <th>City</th>\n",
       "      <th>Zip</th>\n",
       "      <th>County</th>\n",
       "      <th>District</th>\n",
       "      <th>Is Charter</th>\n",
       "      <th>Is Magnet</th>\n",
       "      <th>Is Virtual</th>\n",
       "      <th>Is Title I</th>\n",
       "      <th>Year</th>\n",
       "    </tr>\n",
       "  </thead>\n",
       "  <tbody>\n",
       "    <tr>\n",
       "      <th>0</th>\n",
       "      <td>9</td>\n",
       "      <td>Mission San Jose High</td>\n",
       "      <td>Public, Magnet</td>\n",
       "      <td>12-Sep</td>\n",
       "      <td>41717 Palm Ave.</td>\n",
       "      <td>Fremont</td>\n",
       "      <td>94539</td>\n",
       "      <td>Alameda</td>\n",
       "      <td>Fremont Unified</td>\n",
       "      <td>No</td>\n",
       "      <td>Yes</td>\n",
       "      <td>No</td>\n",
       "      <td>No</td>\n",
       "      <td>2018</td>\n",
       "    </tr>\n",
       "    <tr>\n",
       "      <th>1</th>\n",
       "      <td>28</td>\n",
       "      <td>Piedmont High</td>\n",
       "      <td>Public</td>\n",
       "      <td>12-Sep</td>\n",
       "      <td>800 Magnolia Ave.</td>\n",
       "      <td>Piedmont</td>\n",
       "      <td>94611</td>\n",
       "      <td>Alameda</td>\n",
       "      <td>Piedmont City Unified</td>\n",
       "      <td>No</td>\n",
       "      <td>No</td>\n",
       "      <td>No</td>\n",
       "      <td>No</td>\n",
       "      <td>2018</td>\n",
       "    </tr>\n",
       "    <tr>\n",
       "      <th>2</th>\n",
       "      <td>47</td>\n",
       "      <td>American High</td>\n",
       "      <td>Public</td>\n",
       "      <td>12-Sep</td>\n",
       "      <td>36300 Fremont Blvd.</td>\n",
       "      <td>Fremont</td>\n",
       "      <td>94536</td>\n",
       "      <td>Alameda</td>\n",
       "      <td>Fremont Unified</td>\n",
       "      <td>No</td>\n",
       "      <td>No</td>\n",
       "      <td>No</td>\n",
       "      <td>No</td>\n",
       "      <td>2018</td>\n",
       "    </tr>\n",
       "    <tr>\n",
       "      <th>3</th>\n",
       "      <td>56</td>\n",
       "      <td>Foothill High</td>\n",
       "      <td>Public</td>\n",
       "      <td>12-Sep</td>\n",
       "      <td>4375 Foothill Rd.</td>\n",
       "      <td>Pleasanton</td>\n",
       "      <td>94588</td>\n",
       "      <td>Alameda</td>\n",
       "      <td>Pleasanton Unified</td>\n",
       "      <td>No</td>\n",
       "      <td>No</td>\n",
       "      <td>No</td>\n",
       "      <td>No</td>\n",
       "      <td>2018</td>\n",
       "    </tr>\n",
       "    <tr>\n",
       "      <th>4</th>\n",
       "      <td>57</td>\n",
       "      <td>Irvington High</td>\n",
       "      <td>Public, Magnet</td>\n",
       "      <td>12-Sep</td>\n",
       "      <td>41800 Blacow Rd.</td>\n",
       "      <td>Fremont</td>\n",
       "      <td>94538</td>\n",
       "      <td>Alameda</td>\n",
       "      <td>Fremont Unified</td>\n",
       "      <td>No</td>\n",
       "      <td>Yes</td>\n",
       "      <td>No</td>\n",
       "      <td>No</td>\n",
       "      <td>2018</td>\n",
       "    </tr>\n",
       "  </tbody>\n",
       "</table>\n",
       "</div>"
      ],
      "text/plain": [
       "   Rank                 School            Type  Grades              Address  \\\n",
       "0     9  Mission San Jose High  Public, Magnet  12-Sep      41717 Palm Ave.   \n",
       "1    28          Piedmont High          Public  12-Sep    800 Magnolia Ave.   \n",
       "2    47          American High          Public  12-Sep  36300 Fremont Blvd.   \n",
       "3    56          Foothill High          Public  12-Sep    4375 Foothill Rd.   \n",
       "4    57         Irvington High  Public, Magnet  12-Sep     41800 Blacow Rd.   \n",
       "\n",
       "         City    Zip   County               District Is Charter Is Magnet  \\\n",
       "0     Fremont  94539  Alameda        Fremont Unified         No       Yes   \n",
       "1    Piedmont  94611  Alameda  Piedmont City Unified         No        No   \n",
       "2     Fremont  94536  Alameda        Fremont Unified         No        No   \n",
       "3  Pleasanton  94588  Alameda     Pleasanton Unified         No        No   \n",
       "4     Fremont  94538  Alameda        Fremont Unified         No       Yes   \n",
       "\n",
       "  Is Virtual Is Title I  Year  \n",
       "0         No         No  2018  \n",
       "1         No         No  2018  \n",
       "2         No         No  2018  \n",
       "3         No         No  2018  \n",
       "4         No         No  2018  "
      ]
     },
     "execution_count": 2,
     "metadata": {},
     "output_type": "execute_result"
    }
   ],
   "source": [
    "school_file = \"../Output/SchoolRating.csv\"\n",
    "city_file = \"../Output/5_city_data.csv\"\n",
    "#county_file = \"../Output/county_data.csv\"\n",
    "\n",
    "school_data = pd.read_csv(school_file)\n",
    "school_data.head()"
   ]
  },
  {
   "cell_type": "code",
   "execution_count": 3,
   "metadata": {},
   "outputs": [],
   "source": [
    "school_mean_pd = school_data.groupby(['Year','County','City'])\n",
    "#school_mean_pd.head()"
   ]
  },
  {
   "cell_type": "code",
   "execution_count": 4,
   "metadata": {},
   "outputs": [
    {
     "data": {
      "text/plain": [
       "Year  County   City         \n",
       "2013  Alameda  Alameda           480.0\n",
       "               Albany            112.0\n",
       "               Berkeley         1107.0\n",
       "               Castro Valley     453.0\n",
       "               Dublin             73.0\n",
       "Name: Rank, dtype: float64"
      ]
     },
     "execution_count": 4,
     "metadata": {},
     "output_type": "execute_result"
    }
   ],
   "source": [
    "school_meanrankpd =  school_mean_pd['Rank'].mean()\n",
    "#school_mean_pd.loc[school_mean_pd['City']=='Fremont']\n",
    "school_meanrankpd.head()"
   ]
  },
  {
   "cell_type": "code",
   "execution_count": null,
   "metadata": {},
   "outputs": [],
   "source": []
  },
  {
   "cell_type": "code",
   "execution_count": 5,
   "metadata": {},
   "outputs": [
    {
     "data": {
      "text/html": [
       "<div>\n",
       "<style scoped>\n",
       "    .dataframe tbody tr th:only-of-type {\n",
       "        vertical-align: middle;\n",
       "    }\n",
       "\n",
       "    .dataframe tbody tr th {\n",
       "        vertical-align: top;\n",
       "    }\n",
       "\n",
       "    .dataframe thead th {\n",
       "        text-align: right;\n",
       "    }\n",
       "</style>\n",
       "<table border=\"1\" class=\"dataframe\">\n",
       "  <thead>\n",
       "    <tr style=\"text-align: right;\">\n",
       "      <th></th>\n",
       "      <th></th>\n",
       "      <th></th>\n",
       "      <th>Rank</th>\n",
       "    </tr>\n",
       "    <tr>\n",
       "      <th>Year</th>\n",
       "      <th>County</th>\n",
       "      <th>City</th>\n",
       "      <th></th>\n",
       "    </tr>\n",
       "  </thead>\n",
       "  <tbody>\n",
       "    <tr>\n",
       "      <th rowspan=\"5\" valign=\"top\">2013</th>\n",
       "      <th rowspan=\"5\" valign=\"top\">Alameda</th>\n",
       "      <th>Alameda</th>\n",
       "      <td>480.0</td>\n",
       "    </tr>\n",
       "    <tr>\n",
       "      <th>Albany</th>\n",
       "      <td>112.0</td>\n",
       "    </tr>\n",
       "    <tr>\n",
       "      <th>Berkeley</th>\n",
       "      <td>1107.0</td>\n",
       "    </tr>\n",
       "    <tr>\n",
       "      <th>Castro Valley</th>\n",
       "      <td>453.0</td>\n",
       "    </tr>\n",
       "    <tr>\n",
       "      <th>Dublin</th>\n",
       "      <td>73.0</td>\n",
       "    </tr>\n",
       "  </tbody>\n",
       "</table>\n",
       "</div>"
      ],
      "text/plain": [
       "                              Rank\n",
       "Year County  City                 \n",
       "2013 Alameda Alameda         480.0\n",
       "             Albany          112.0\n",
       "             Berkeley       1107.0\n",
       "             Castro Valley   453.0\n",
       "             Dublin           73.0"
      ]
     },
     "execution_count": 5,
     "metadata": {},
     "output_type": "execute_result"
    }
   ],
   "source": [
    "school_df1 = pd.DataFrame(school_meanrankpd)\n",
    "school_df1.head()"
   ]
  },
  {
   "cell_type": "code",
   "execution_count": 6,
   "metadata": {},
   "outputs": [
    {
     "data": {
      "text/html": [
       "<div>\n",
       "<style scoped>\n",
       "    .dataframe tbody tr th:only-of-type {\n",
       "        vertical-align: middle;\n",
       "    }\n",
       "\n",
       "    .dataframe tbody tr th {\n",
       "        vertical-align: top;\n",
       "    }\n",
       "\n",
       "    .dataframe thead th {\n",
       "        text-align: right;\n",
       "    }\n",
       "</style>\n",
       "<table border=\"1\" class=\"dataframe\">\n",
       "  <thead>\n",
       "    <tr style=\"text-align: right;\">\n",
       "      <th></th>\n",
       "      <th>Unnamed: 0</th>\n",
       "      <th>State</th>\n",
       "      <th>County</th>\n",
       "      <th>City</th>\n",
       "      <th>Median Sale Price</th>\n",
       "      <th>Date</th>\n",
       "      <th>Month</th>\n",
       "      <th>Year</th>\n",
       "    </tr>\n",
       "  </thead>\n",
       "  <tbody>\n",
       "    <tr>\n",
       "      <th>0</th>\n",
       "      <td>50</td>\n",
       "      <td>California</td>\n",
       "      <td>Santa Clara, CA</td>\n",
       "      <td>Santa Clara</td>\n",
       "      <td>465000.0</td>\n",
       "      <td>2/1/2012</td>\n",
       "      <td>2</td>\n",
       "      <td>2012</td>\n",
       "    </tr>\n",
       "    <tr>\n",
       "      <th>1</th>\n",
       "      <td>64</td>\n",
       "      <td>California</td>\n",
       "      <td>Santa Clara, CA</td>\n",
       "      <td>Santa Clara</td>\n",
       "      <td>690000.0</td>\n",
       "      <td>10/1/2013</td>\n",
       "      <td>10</td>\n",
       "      <td>2013</td>\n",
       "    </tr>\n",
       "    <tr>\n",
       "      <th>2</th>\n",
       "      <td>80</td>\n",
       "      <td>California</td>\n",
       "      <td>Oakland, CA</td>\n",
       "      <td>Oakland</td>\n",
       "      <td>610000.0</td>\n",
       "      <td>5/1/2015</td>\n",
       "      <td>5</td>\n",
       "      <td>2015</td>\n",
       "    </tr>\n",
       "    <tr>\n",
       "      <th>3</th>\n",
       "      <td>109</td>\n",
       "      <td>California</td>\n",
       "      <td>Santa Clara, CA</td>\n",
       "      <td>Santa Clara</td>\n",
       "      <td>541000.0</td>\n",
       "      <td>3/1/2012</td>\n",
       "      <td>3</td>\n",
       "      <td>2012</td>\n",
       "    </tr>\n",
       "    <tr>\n",
       "      <th>4</th>\n",
       "      <td>193</td>\n",
       "      <td>California</td>\n",
       "      <td>Oakland, CA</td>\n",
       "      <td>Oakland</td>\n",
       "      <td>499000.0</td>\n",
       "      <td>6/1/2014</td>\n",
       "      <td>6</td>\n",
       "      <td>2014</td>\n",
       "    </tr>\n",
       "  </tbody>\n",
       "</table>\n",
       "</div>"
      ],
      "text/plain": [
       "   Unnamed: 0       State           County         City  Median Sale Price  \\\n",
       "0          50  California  Santa Clara, CA  Santa Clara           465000.0   \n",
       "1          64  California  Santa Clara, CA  Santa Clara           690000.0   \n",
       "2          80  California      Oakland, CA      Oakland           610000.0   \n",
       "3         109  California  Santa Clara, CA  Santa Clara           541000.0   \n",
       "4         193  California      Oakland, CA      Oakland           499000.0   \n",
       "\n",
       "        Date  Month  Year  \n",
       "0   2/1/2012      2  2012  \n",
       "1  10/1/2013     10  2013  \n",
       "2   5/1/2015      5  2015  \n",
       "3   3/1/2012      3  2012  \n",
       "4   6/1/2014      6  2014  "
      ]
     },
     "execution_count": 6,
     "metadata": {},
     "output_type": "execute_result"
    }
   ],
   "source": [
    "city_salesdata = pd.read_csv(city_file)\n",
    "city_salesdata.head()\n"
   ]
  },
  {
   "cell_type": "code",
   "execution_count": 7,
   "metadata": {},
   "outputs": [
    {
     "data": {
      "text/html": [
       "<div>\n",
       "<style scoped>\n",
       "    .dataframe tbody tr th:only-of-type {\n",
       "        vertical-align: middle;\n",
       "    }\n",
       "\n",
       "    .dataframe tbody tr th {\n",
       "        vertical-align: top;\n",
       "    }\n",
       "\n",
       "    .dataframe thead th {\n",
       "        text-align: right;\n",
       "    }\n",
       "</style>\n",
       "<table border=\"1\" class=\"dataframe\">\n",
       "  <thead>\n",
       "    <tr style=\"text-align: right;\">\n",
       "      <th></th>\n",
       "      <th>City</th>\n",
       "      <th>Year</th>\n",
       "      <th>Rank</th>\n",
       "      <th>Unnamed: 0</th>\n",
       "      <th>State</th>\n",
       "      <th>County</th>\n",
       "      <th>Median Sale Price</th>\n",
       "      <th>Date</th>\n",
       "      <th>Month</th>\n",
       "    </tr>\n",
       "  </thead>\n",
       "  <tbody>\n",
       "    <tr>\n",
       "      <th>0</th>\n",
       "      <td>Fremont</td>\n",
       "      <td>2013</td>\n",
       "      <td>327.4</td>\n",
       "      <td>9625</td>\n",
       "      <td>California</td>\n",
       "      <td>Fremont, CA</td>\n",
       "      <td>530000.0</td>\n",
       "      <td>1/1/2013</td>\n",
       "      <td>1</td>\n",
       "    </tr>\n",
       "    <tr>\n",
       "      <th>1</th>\n",
       "      <td>Fremont</td>\n",
       "      <td>2013</td>\n",
       "      <td>327.4</td>\n",
       "      <td>9688</td>\n",
       "      <td>California</td>\n",
       "      <td>Fremont, CA</td>\n",
       "      <td>620000.0</td>\n",
       "      <td>4/1/2013</td>\n",
       "      <td>4</td>\n",
       "    </tr>\n",
       "    <tr>\n",
       "      <th>2</th>\n",
       "      <td>Fremont</td>\n",
       "      <td>2013</td>\n",
       "      <td>327.4</td>\n",
       "      <td>9833</td>\n",
       "      <td>California</td>\n",
       "      <td>Fremont, CA</td>\n",
       "      <td>648000.0</td>\n",
       "      <td>10/1/2013</td>\n",
       "      <td>10</td>\n",
       "    </tr>\n",
       "    <tr>\n",
       "      <th>3</th>\n",
       "      <td>Fremont</td>\n",
       "      <td>2013</td>\n",
       "      <td>327.4</td>\n",
       "      <td>13329</td>\n",
       "      <td>California</td>\n",
       "      <td>Fremont, CA</td>\n",
       "      <td>650000.0</td>\n",
       "      <td>7/1/2013</td>\n",
       "      <td>7</td>\n",
       "    </tr>\n",
       "    <tr>\n",
       "      <th>4</th>\n",
       "      <td>Fremont</td>\n",
       "      <td>2013</td>\n",
       "      <td>327.4</td>\n",
       "      <td>16452</td>\n",
       "      <td>California</td>\n",
       "      <td>Fremont, CA</td>\n",
       "      <td>636000.0</td>\n",
       "      <td>12/1/2013</td>\n",
       "      <td>12</td>\n",
       "    </tr>\n",
       "  </tbody>\n",
       "</table>\n",
       "</div>"
      ],
      "text/plain": [
       "      City  Year   Rank  Unnamed: 0       State       County  \\\n",
       "0  Fremont  2013  327.4        9625  California  Fremont, CA   \n",
       "1  Fremont  2013  327.4        9688  California  Fremont, CA   \n",
       "2  Fremont  2013  327.4        9833  California  Fremont, CA   \n",
       "3  Fremont  2013  327.4       13329  California  Fremont, CA   \n",
       "4  Fremont  2013  327.4       16452  California  Fremont, CA   \n",
       "\n",
       "   Median Sale Price       Date  Month  \n",
       "0           530000.0   1/1/2013      1  \n",
       "1           620000.0   4/1/2013      4  \n",
       "2           648000.0  10/1/2013     10  \n",
       "3           650000.0   7/1/2013      7  \n",
       "4           636000.0  12/1/2013     12  "
      ]
     },
     "execution_count": 7,
     "metadata": {},
     "output_type": "execute_result"
    }
   ],
   "source": [
    "\n",
    "# merging the Housung data with School Data \n",
    "school_housing_df = pd.merge(school_df1, city_salesdata, on=['City','Year'], how='inner')\n",
    "school_housing_df.head()"
   ]
  },
  {
   "cell_type": "code",
   "execution_count": 8,
   "metadata": {},
   "outputs": [],
   "source": [
    "#school_housing_df1 = school_housing_df.groupby(['Year','City','Rank'])\n",
    "#school_housing_df2 = school_housing_df1['Median Sale Price'].mean().astype('int64')\n",
    "school_housing_group = school_housing_df.groupby(['Year','City','Rank'])\n",
    "school_housing_df2 = school_housing_group['Median Sale Price'].mean().astype('int64')"
   ]
  },
  {
   "cell_type": "code",
   "execution_count": 22,
   "metadata": {},
   "outputs": [
    {
     "data": {
      "text/html": [
       "<div>\n",
       "<style scoped>\n",
       "    .dataframe tbody tr th:only-of-type {\n",
       "        vertical-align: middle;\n",
       "    }\n",
       "\n",
       "    .dataframe tbody tr th {\n",
       "        vertical-align: top;\n",
       "    }\n",
       "\n",
       "    .dataframe thead th {\n",
       "        text-align: right;\n",
       "    }\n",
       "</style>\n",
       "<table border=\"1\" class=\"dataframe\">\n",
       "  <thead>\n",
       "    <tr style=\"text-align: right;\">\n",
       "      <th></th>\n",
       "      <th>Year</th>\n",
       "      <th>City</th>\n",
       "      <th>Rank</th>\n",
       "      <th>Median Sale Price</th>\n",
       "    </tr>\n",
       "  </thead>\n",
       "  <tbody>\n",
       "    <tr>\n",
       "      <th>0</th>\n",
       "      <td>2013</td>\n",
       "      <td>Fremont</td>\n",
       "      <td>327.400000</td>\n",
       "      <td>622750</td>\n",
       "    </tr>\n",
       "    <tr>\n",
       "      <th>1</th>\n",
       "      <td>2013</td>\n",
       "      <td>Hayward</td>\n",
       "      <td>1583.833333</td>\n",
       "      <td>379250</td>\n",
       "    </tr>\n",
       "    <tr>\n",
       "      <th>2</th>\n",
       "      <td>2013</td>\n",
       "      <td>Oakland</td>\n",
       "      <td>1323.733333</td>\n",
       "      <td>414333</td>\n",
       "    </tr>\n",
       "    <tr>\n",
       "      <th>3</th>\n",
       "      <td>2013</td>\n",
       "      <td>San Jose</td>\n",
       "      <td>913.576923</td>\n",
       "      <td>609000</td>\n",
       "    </tr>\n",
       "    <tr>\n",
       "      <th>4</th>\n",
       "      <td>2013</td>\n",
       "      <td>Santa Clara</td>\n",
       "      <td>789.000000</td>\n",
       "      <td>664833</td>\n",
       "    </tr>\n",
       "  </tbody>\n",
       "</table>\n",
       "</div>"
      ],
      "text/plain": [
       "   Year         City         Rank  Median Sale Price\n",
       "0  2013      Fremont   327.400000             622750\n",
       "1  2013      Hayward  1583.833333             379250\n",
       "2  2013      Oakland  1323.733333             414333\n",
       "3  2013     San Jose   913.576923             609000\n",
       "4  2013  Santa Clara   789.000000             664833"
      ]
     },
     "execution_count": 22,
     "metadata": {},
     "output_type": "execute_result"
    }
   ],
   "source": [
    "\n",
    "\n",
    "school_housing_df3 = pd.DataFrame(school_housing_df2)\n",
    "school_housing_df3 = school_housing_df3.reset_index()\n",
    "\n",
    "school_housing_df3.head()\n",
    "#type(school_housing_df3)\n",
    "#school_housing_df100 = school_housing_df3[school_housing_df3['City']=='Fremont']\n",
    "#school_housing_df100\n"
   ]
  },
  {
   "cell_type": "code",
   "execution_count": 92,
   "metadata": {},
   "outputs": [
    {
     "name": "stdout",
     "output_type": "stream",
     "text": [
      "../Output/FremontSchoolRating.png\n",
      "../Output/HaywardSchoolRating.png\n",
      "../Output/OaklandSchoolRating.png\n",
      "../Output/San JoseSchoolRating.png\n",
      "../Output/Santa ClaraSchoolRating.png\n"
     ]
    },
    {
     "data": {
      "image/png": "[encoded data removed]",
      "text/plain": [
       "<Figure size 432x288 with 3 Axes>"
      ]
     },
     "metadata": {
      "needs_background": "light"
     },
     "output_type": "display_data"
    },
    {
     "data": {
      "image/png": "[encoded data removed]",
      "text/plain": [
       "<Figure size 432x288 with 3 Axes>"
      ]
     },
     "metadata": {
      "needs_background": "light"
     },
     "output_type": "display_data"
    },
    {
     "data": {
      "image/png": "[encoded data removed]",
      "text/plain": [
       "<Figure size 432x288 with 3 Axes>"
      ]
     },
     "metadata": {
      "needs_background": "light"
     },
     "output_type": "display_data"
    },
    {
     "data": {
      "image/png": "[encoded data removed]",
      "text/plain": [
       "<Figure size 432x288 with 3 Axes>"
      ]
     },
     "metadata": {
      "needs_background": "light"
     },
     "output_type": "display_data"
    },
    {
     "data": {
      "image/png": "[encoded data removed]",
      "text/plain": [
       "<Figure size 432x288 with 3 Axes>"
      ]
     },
     "metadata": {
      "needs_background": "light"
     },
     "output_type": "display_data"
    }
   ],
   "source": [
    "df2 = school_housing_df3.groupby('City')\n",
    "for key, group in df2:\n",
    "    #print(\"key : \" + str(key) + \"  Group : \" + str(group))\n",
    "    fig = plt.figure()\n",
    "    ax1 = fig.add_subplot(121)\n",
    "    ax1 = group[['Median Sale Price']].plot(kind='bar',color='b')\n",
    "    ax1.tick_params(axis='x',width=0.3)\n",
    "    ax1.set_xlabel('Year')\n",
    "    ax1.set_ylabel('Median Sale Price')\n",
    "    ax1.set_ylim(0, 1500000)\n",
    "    #ax1.legend(df2.columns, loc = 'upper left')\n",
    "    ax1.set_title(f\"School Rating & Sale Price  :  {key}\")\n",
    "    \n",
    "    ax2 = fig.add_subplot(122)\n",
    "    ax2 = ax1.twinx()\n",
    "    #print(df2['City'])\n",
    "    ax2 = group[['Rank']].plot(kind='bar', secondary_y=True, ax=ax1, color='y')\n",
    "    ax2.set_ylabel('Rank value')\n",
    "    ax2.set_ylim(0, 2000)\n",
    "    #plt.ylim(0,2000)\n",
    "    plt.yticks(np.arange(0,2000,200))\n",
    "    plt.xticks(np.arange(6), group['Year'])\n",
    "    plt.tight_layout()\n",
    "    fig.show()\n",
    "    filename = (f\"../Output/{key}SchoolRating.png\" )\n",
    "    #print(filename)\n",
    "    plt.savefig(filename)\n",
    "    plt.close(fig)"
   ]
  },
  {
   "cell_type": "code",
   "execution_count": 114,
   "metadata": {},
   "outputs": [
    {
     "data": {
      "image/png": "[encoded data removed]",
      "text/plain": [
       "<Figure size 432x288 with 1 Axes>"
      ]
     },
     "metadata": {
      "needs_background": "light"
     },
     "output_type": "display_data"
    }
   ],
   "source": [
    "city_rank_df = school_housing_df3.pivot(index=\"Year\", columns=\"City\",values='Rank')\n",
    "city_rank_df.plot()\n",
    "plt.savefig(\"../Output/AllCityRank.png\")"
   ]
  },
  {
   "cell_type": "code",
   "execution_count": 115,
   "metadata": {},
   "outputs": [
    {
     "data": {
      "image/png": "[encoded data removed]",
      "text/plain": [
       "<Figure size 432x288 with 1 Axes>"
      ]
     },
     "metadata": {
      "needs_background": "light"
     },
     "output_type": "display_data"
    }
   ],
   "source": [
    "city_rank_df = school_housing_df3.pivot(index=\"Year\", columns=\"City\",values='Median Sale Price')\n",
    "city_rank_df.plot()\n",
    "plt.savefig(\"../Output/AllCityPrice.png\")"
   ]
  },
  {
   "cell_type": "code",
   "execution_count": null,
   "metadata": {},
   "outputs": [],
   "source": [
    "fig, ax1 = plt.subplots(figsize=(10, 8))\n",
    "#ax1.bar(range(len(citydata_df_new_gr)), citydata_df_new_gr[\"Median Sale Price\"], width=0.3, color = 'tab:blue')\n",
    "ax1.bar(school_housing_df100[\"Year\"], school_housing_df100[\"Median Sale Price\"], width=0.3, color = 'tab:blue')\n",
    "ax1.tick_params(axis='x',width=0.3)\n",
    "ax1.set_xlabel('Year')\n",
    "ax1.set_ylabel('Median Price')\n",
    "ax1.set_ylim(0, 1500000)\n",
    "ax1.legend(school_housing_df3.columns, loc = 'upper left')\n",
    "\n",
    "ax2 = ax1.twinx()\n",
    "ax2.set_ylabel('Rank')  # we already handled the x-label with ax1\n",
    "ax2.plot(school_housing_df100[\"Year\"], school_housing_df100[\"Rank\"], color = 'tab:red')\n",
    "ax2.set_ylim(0, 2000)\n",
    "ax2.legend([\"Rank\"])\n",
    "plt.xticks(np.arange(2), school_housing_df100.Year)\n",
    "\n",
    "fig.tight_layout()  # otherwise the right y-label is slightly clipped\n",
    "plt.show()"
   ]
  },
  {
   "cell_type": "code",
   "execution_count": null,
   "metadata": {},
   "outputs": [],
   "source": [
    "school_housing_df2 = pd.DataFrame(school_housing_df2) \n",
    "school_housing_df2.head()"
   ]
  },
  {
   "cell_type": "code",
   "execution_count": null,
   "metadata": {},
   "outputs": [],
   "source": [
    "school_housing_df10 = school_housing_df.groupby(['City'])\n",
    "school_housing_df20 = school_housing_df10['Median Sale Price'].mean().astype('int64')\n",
    "type(school_housing_df20)\n",
    "#school_housing_df20.head()\n",
    "school_housing_df20 = pd.DataFrame(school_housing_df20)\n",
    "school_housing_df20 = school_housing_df20.reset_index()\n",
    "school_housing_df20 = school_housing_df20.set_index('City')"
   ]
  },
  {
   "cell_type": "code",
   "execution_count": null,
   "metadata": {},
   "outputs": [],
   "source": [
    "price_chart = school_housing_df20.plot(kind='bar')"
   ]
  },
  {
   "cell_type": "code",
   "execution_count": null,
   "metadata": {},
   "outputs": [],
   "source": [
    "df11 = school_housing_df.groupby(['Year','City'])\n"
   ]
  },
  {
   "cell_type": "code",
   "execution_count": null,
   "metadata": {},
   "outputs": [],
   "source": [
    "#Plotting the graph\n",
    "df_fremont = school_housing_df.loc[school_housing_df['City']=='Fremont']\n",
    "df_hayward = school_housing_df.loc[school_housing_df['City']=='Hayward']\n",
    "df_oakland = school_housing_df.loc[school_housing_df['City']=='Oakland']\n",
    "df_SanJose = school_housing_df.loc[school_housing_df['City']=='San Jose']\n",
    "df_SantaClara = school_housing_df.loc[school_housing_df['City']=='Santa Clara']\n",
    "#Plot for Fremont\n",
    "year_group_ds = df_fremont.groupby(['Year'])\n",
    "year_group_rank = year_group_ds['Rank'].mean()\n",
    "year_group_rank = pd.DataFrame(year_group_rank)\n",
    "year_group_rank = year_group_rank.reset_index()\n",
    "year_group_rank = year_group_rank.set_index('Year')\n",
    "year_group_price.head()\n"
   ]
  },
  {
   "cell_type": "code",
   "execution_count": null,
   "metadata": {},
   "outputs": [],
   "source": [
    "school_chart = year_group_rank.plot(kind='bar')"
   ]
  },
  {
   "cell_type": "code",
   "execution_count": null,
   "metadata": {
    "scrolled": true
   },
   "outputs": [],
   "source": [
    "year_group_price = year_group_ds['Median Sale Price'].mean().astype('int64')\n",
    "year_group_price = pd.DataFrame(year_group_price)\n",
    "year_group_price = year_group_price.reset_index()\n",
    "year_group_price = year_group_price.set_index('Year')\n",
    "price_chart = year_group_price.plot(kind='bar')"
   ]
  },
  {
   "cell_type": "code",
   "execution_count": null,
   "metadata": {},
   "outputs": [],
   "source": [
    "year_group_rank.head()\n",
    "#year_group_price.head()"
   ]
  },
  {
   "cell_type": "code",
   "execution_count": null,
   "metadata": {},
   "outputs": [],
   "source": [
    "fig, ax1 = plt.subplots(figsize=(10, 8))\n",
    "#ax1.bar(range(len(citydata_df_new_gr)), citydata_df_new_gr[\"Median Sale Price\"], width=0.3, color = 'tab:blue')\n",
    "ax1.bar(year_group_price[\"Year\"], year_group_price[\"Median Sale Price\"], width=0.3, color = 'tab:blue')\n",
    "ax1.tick_params(axis='x',width=0.3)\n",
    "ax1.set_xlabel('Year')\n",
    "ax1.set_ylabel('Median Price')\n",
    "ax1.set_ylim(0, 1500000)\n",
    "ax1.legend(year_group_price.columns, loc = 'upper left')\n",
    "\n",
    "ax2 = ax1.twinx()\n",
    "ax2.set_ylabel('Rank')  # we already handled the x-label with ax1\n",
    "ax2.plot(year_group_rank[\"Year\"], year_group_rank[\"Rank\"], color = 'tab:red')\n",
    "ax2.set_ylim(0, 1500)\n",
    "ax2.legend([\"Rank\"])\n",
    "plt.xticks(np.arange(2), year_group_rank.Year)\n",
    "\n",
    "fig.tight_layout()  # otherwise the right y-label is slightly clipped\n",
    "plt.show()"
   ]
  },
  {
   "cell_type": "code",
   "execution_count": null,
   "metadata": {},
   "outputs": [],
   "source": [
    "#Plot for Hayward\n",
    "year_group_ds = df_hayward.groupby(['Year'])\n",
    "year_group_ds1 = year_group_ds['Rank'].mean()\n",
    "school_chart = year_group_ds1.plot(kind='bar')\n"
   ]
  },
  {
   "cell_type": "code",
   "execution_count": null,
   "metadata": {
    "scrolled": true
   },
   "outputs": [],
   "source": [
    "year_group_ds1 = year_group_ds['Median Sale Price'].mean()\n",
    "price_chart = year_group_ds1.plot(kind='bar')"
   ]
  },
  {
   "cell_type": "code",
   "execution_count": null,
   "metadata": {},
   "outputs": [],
   "source": []
  },
  {
   "cell_type": "code",
   "execution_count": null,
   "metadata": {},
   "outputs": [],
   "source": [
    "#Plot for Oakland\n",
    "year_group_ds = df_oakland.groupby(['Year'])\n",
    "year_group_ds1 = year_group_ds['Rank'].mean()\n",
    "school_chart = year_group_ds1.plot(kind='bar')\n"
   ]
  },
  {
   "cell_type": "code",
   "execution_count": null,
   "metadata": {},
   "outputs": [],
   "source": [
    "year_group_ds1 = year_group_ds['Median Sale Price'].mean()\n",
    "price_chart = year_group_ds1.plot(kind='line')"
   ]
  },
  {
   "cell_type": "code",
   "execution_count": null,
   "metadata": {},
   "outputs": [],
   "source": [
    "#Plot for San Jose\n",
    "year_group_ds = df_SanJose.groupby(['Year'])\n",
    "year_group_ds1 = year_group_ds['Rank'].mean()\n",
    "school_chart = year_group_ds1.plot(kind='bar')\n"
   ]
  },
  {
   "cell_type": "code",
   "execution_count": null,
   "metadata": {},
   "outputs": [],
   "source": [
    "year_group_ds1 = year_group_ds['Median Sale Price'].mean()\n",
    "price_chart = year_group_ds1.plot(kind='line')"
   ]
  },
  {
   "cell_type": "code",
   "execution_count": null,
   "metadata": {},
   "outputs": [],
   "source": [
    "#Plot for Santa Clara\n",
    "year_group_ds = df_SantaClara.groupby(['Year'])\n",
    "year_group_ds1 = year_group_ds['Rank'].mean()\n",
    "school_chart = year_group_ds1.plot(kind='bar')\n"
   ]
  },
  {
   "cell_type": "code",
   "execution_count": null,
   "metadata": {},
   "outputs": [],
   "source": [
    "year_group_ds1 = year_group_ds['Median Sale Price'].mean()\n",
    "price_chart = year_group_ds1.plot(kind='bar')"
   ]
  },
  {
   "cell_type": "code",
   "execution_count": null,
   "metadata": {},
   "outputs": [],
   "source": []
  },
  {
   "cell_type": "code",
   "execution_count": null,
   "metadata": {},
   "outputs": [],
   "source": []
  }
 ],
 "metadata": {
  "kernelspec": {
   "display_name": "Python 3",
   "language": "python",
   "name": "python3"
  },
  "language_info": {
   "codemirror_mode": {
    "name": "ipython",
    "version": 3
   },
   "file_extension": ".py",
   "mimetype": "text/x-python",
   "name": "python",
   "nbconvert_exporter": "python",
   "pygments_lexer": "ipython3",
   "version": "3.7.1"
  }
 },
 "nbformat": 4,
 "nbformat_minor": 2
}
